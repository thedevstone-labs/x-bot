{
 "cells": [
  {
   "metadata": {},
   "cell_type": "markdown",
   "source": [
    "# Load the CSV\n",
    "We load the csv file created by the scraper in first part.\n"
   ],
   "id": "7bfe7eece5dc6e87"
  },
  {
   "metadata": {
    "collapsed": true
   },
   "cell_type": "code",
   "source": [
    "from pathlib import Path\n",
    "\n",
    "import pandas as pd\n",
    "from pandas import DataFrame\n",
    "\n",
    "from utils import get_path\n",
    "\n",
    "tweet_path: Path = get_path(\"./tweets_backup_15-02.csv\")\n",
    "df: DataFrame = pd.read_csv(tweet_path, parse_dates=['created_at'], date_format='%a %b %d %H:%M:%S %z %Y',\n",
    "                            dtype={'id': int,\n",
    "                                   'username': 'string',\n",
    "                                   'text': 'string',\n",
    "                                   'retweets': int,\n",
    "                                   'likes': int})\n",
    "df.set_index('id', inplace=True)\n",
    "df.info()\n",
    "df.describe()"
   ],
   "id": "initial_id",
   "outputs": [],
   "execution_count": null
  },
  {
   "metadata": {},
   "cell_type": "markdown",
   "source": "## General infos",
   "id": "c9803c071948ee5a"
  },
  {
   "metadata": {},
   "cell_type": "code",
   "source": "df.head()",
   "id": "8db5dc915154c694",
   "outputs": [],
   "execution_count": null
  },
  {
   "metadata": {},
   "cell_type": "markdown",
   "source": "## Numerics",
   "id": "64b724cf8feb71f2"
  },
  {
   "metadata": {},
   "cell_type": "code",
   "source": [
    "most_retweeted = df.nlargest(10, \"retweets\")[[\"username\", \"text\", \"retweets\"]]\n",
    "most_retweeted"
   ],
   "id": "ddebfce85778b268",
   "outputs": [],
   "execution_count": null
  },
  {
   "metadata": {},
   "cell_type": "code",
   "source": [
    "\n",
    "most_liked = df.nlargest(10, \"likes\")[[\"username\", \"text\", \"likes\"]]\n",
    "most_liked\n"
   ],
   "id": "eaf6fa13a89cdb10",
   "outputs": [],
   "execution_count": null
  },
  {
   "metadata": {},
   "cell_type": "markdown",
   "source": [
    "## Time analysis\n",
    "We try to understand tweets time distribution"
   ],
   "id": "c1b560ec3cf93678"
  },
  {
   "metadata": {},
   "cell_type": "code",
   "source": [
    "# Extract date and hour for analysis\n",
    "df[\"date\"] = df[\"created_at\"].dt.date\n",
    "df[\"hour\"] = df[\"created_at\"].dt.hour\n",
    "df.head()"
   ],
   "id": "a4a168c08247f122",
   "outputs": [],
   "execution_count": null
  },
  {
   "metadata": {},
   "cell_type": "code",
   "source": [
    "tweets_per_day = df.groupby(\"date\")[\"text\"].count().to_frame(name=\"tweets\")\n",
    "tweets_per_day\n"
   ],
   "id": "d88ebc0cad0ecee4",
   "outputs": [],
   "execution_count": null
  },
  {
   "metadata": {},
   "cell_type": "code",
   "source": [
    "tweets_per_hour = df.groupby(\"hour\")[\"text\"].count().to_frame(name=\"tweets\")\n",
    "tweets_per_hour"
   ],
   "id": "564fb3917d79e09c",
   "outputs": [],
   "execution_count": null
  },
  {
   "metadata": {},
   "cell_type": "code",
   "source": [
    "import matplotlib.pyplot as plt\n",
    "\n",
    "tweets_per_hour.plot(kind=\"bar\", figsize=(10, 5), color=\"royalblue\")\n",
    "plt.xlabel(\"Hour of the Day\")\n",
    "plt.ylabel(\"Tweet Count\")\n",
    "plt.title(\"Tweet Frequency by Hour\")\n",
    "plt.show()"
   ],
   "id": "22421dfeaf3b5a70",
   "outputs": [],
   "execution_count": null
  },
  {
   "metadata": {},
   "cell_type": "markdown",
   "source": "## Most active users",
   "id": "6740096dd92fbca3"
  },
  {
   "metadata": {},
   "cell_type": "code",
   "source": [
    "active_users = df[\"username\"].value_counts().head(10)\n",
    "active_users"
   ],
   "id": "7cf7bf3c5d094fb",
   "outputs": [],
   "execution_count": null
  },
  {
   "metadata": {},
   "cell_type": "markdown",
   "source": "## Words Analysis",
   "id": "7b99e1004ca19a54"
  },
  {
   "metadata": {},
   "cell_type": "markdown",
   "source": "### Frequency",
   "id": "5ca205d62146a81c"
  },
  {
   "metadata": {},
   "cell_type": "code",
   "source": [
    "import re\n",
    "import matplotlib.pyplot as plt\n",
    "from collections import Counter\n",
    "from nltk.corpus import stopwords\n",
    "import nltk\n",
    "# Load Italian\n",
    "nltk.download('stopwords')\n",
    "stopwords_it = set(stopwords.words(\"italian\"))\n",
    "\n",
    "# Combine all tweets into a single text\n",
    "all_text = \" \".join(df[\"text\"]).lower()\n",
    "\n",
    "# Extract words (only those longer than 6 characters & not in stopwords)\n",
    "words = [\n",
    "    word for word in re.findall(r'\\b\\w+\\b', all_text)\n",
    "    if len(word) > 6 and word not in stopwords_it\n",
    "]\n",
    "\n",
    "# Count word occurrences\n",
    "word_freq = Counter(words).most_common(20)\n",
    "word_df = pd.DataFrame(word_freq, columns=[\"word\", \"frequency\"])\n",
    "word_df\n"
   ],
   "id": "8c899328a47603af",
   "outputs": [],
   "execution_count": null
  },
  {
   "metadata": {},
   "cell_type": "code",
   "source": [
    "# Set style\n",
    "import seaborn as sns\n",
    "plt.figure(figsize=(12, 6))\n",
    "sns.barplot(x=\"frequency\", y=\"word\", data=word_df, palette=\"viridis\")\n",
    "\n",
    "# Titles and labels\n",
    "plt.xlabel(\"Count\")\n",
    "plt.ylabel(\"Word\")\n",
    "plt.title(\"Top 20 Most Frequent Words in Sanremo Tweets\")\n",
    "plt.grid(axis=\"x\", linestyle=\"--\", alpha=0.7)\n",
    "\n",
    "# Show plot\n",
    "plt.show()"
   ],
   "id": "92e22c704e1fefa6",
   "outputs": [],
   "execution_count": null
  },
  {
   "metadata": {},
   "cell_type": "markdown",
   "source": "### Hashtags",
   "id": "1f173d39d9101a2d"
  },
  {
   "metadata": {},
   "cell_type": "code",
   "source": [
    "from collections import Counter\n",
    "import re\n",
    "\n",
    "\n",
    "# Function to clean and extract words\n",
    "def extract_words(text):\n",
    "    words = re.findall(r\"#\\w+\", text.lower())  # Extract hashtags\n",
    "    return words\n",
    "\n",
    "all_hashtags = df[\"text\"].dropna().apply(extract_words)\n",
    "hashtags = Counter([ht for sublist in all_hashtags for ht in sublist])\n",
    "hashtags.most_common(10)"
   ],
   "id": "35c188f8100edd8",
   "outputs": [],
   "execution_count": null
  },
  {
   "metadata": {},
   "cell_type": "markdown",
   "source": "## Sentiment Analysis",
   "id": "db644bbb93f447b0"
  },
  {
   "metadata": {},
   "cell_type": "code",
   "source": [
    "from textblob import TextBlob\n",
    "\n",
    "# Function to get sentiment polarity (-1 to 1)\n",
    "def get_sentiment(text):\n",
    "    return TextBlob(text).sentiment.polarity\n",
    "\n",
    "# Apply sentiment analysis\n",
    "df[\"sentiment\"] = df[\"text\"].apply(get_sentiment)\n",
    "\n",
    "# Average sentiment score\n",
    "df[\"sentiment\"].describe()\n"
   ],
   "id": "cb80fa5a2a23e045",
   "outputs": [],
   "execution_count": null
  },
  {
   "metadata": {},
   "cell_type": "code",
   "source": [
    "# Tweets with most positive sentiment\n",
    "df.sort_values(by=\"sentiment\", ascending=False)[[\"username\", \"text\", \"sentiment\"]].head(5)"
   ],
   "id": "46452dc70a61c4f1",
   "outputs": [],
   "execution_count": null
  },
  {
   "metadata": {},
   "cell_type": "markdown",
   "source": "",
   "id": "a1eed959996c019a"
  },
  {
   "metadata": {},
   "cell_type": "code",
   "source": [
    "# Tweets with most negative sentiment\n",
    "df.sort_values(by=\"sentiment\", ascending=True)[[\"username\", \"text\", \"sentiment\"]].head(5)"
   ],
   "id": "2d01887a3f9245d0",
   "outputs": [],
   "execution_count": null
  },
  {
   "metadata": {},
   "cell_type": "markdown",
   "source": "## Final Analysis",
   "id": "861bfae35dbab44f"
  },
  {
   "metadata": {},
   "cell_type": "code",
   "source": [
    "from matplotlib import pyplot as plt\n",
    "import seaborn as sns\n",
    "nomi_artisti = [\n",
    "    \"Lauro\", \"Bresh\", \"Brunori\", \"Clara\", \"Coma_Cose\", \"Elodie\", \"Killa\", \"Fedez\",\n",
    "    \"Michielin\", \"Gabbani\", \"Gaia\", \"Giorgia\", \"Irama\", \"Thiele\", \"Corsi\", \"Bella\",\n",
    "    \"Ranieri\", \"Modà\", \"Noemi\", \"Olly\", \"Rkomi\", \"Hunt\", \"Villain\", \"Toscano\",\n",
    "    \"Brancale\", \"Shablo\", \"Cristicchi\", \"Kolors\", \"Effe\", \"Peyote\"\n",
    "]\n",
    "frequenze = {nome: df['text'].str.contains(rf'\\b{nome}\\b', case=False, na=False).sum() for nome in nomi_artisti}\n",
    "\n",
    "df_frequenze = pd.DataFrame(frequenze.items(), columns=['artist', 'frequency'])\n",
    "df_frequenze = df_frequenze[df_frequenze['frequency'] > 0]  # Rimuoviamo quelli con 0 occorrenze\n",
    "\n",
    "# Ordina per frequenza\n",
    "df_frequenze = df_frequenze.sort_values(by='frequency', ascending=False)\n",
    "\n",
    "# Grafico a barre\n",
    "plt.figure(figsize=(12, 6))\n",
    "sns.barplot(data=df_frequenze, x='artist', y='frequency', palette='magma')\n",
    "plt.xticks(rotation=45, ha='right')\n",
    "plt.title(\"Frequency artists in tweets\")\n",
    "plt.xlabel(\"Artists\")\n",
    "plt.ylabel(\"Number of tweets\")\n",
    "plt.show()"
   ],
   "id": "9215038a2871321d",
   "outputs": [],
   "execution_count": null
  }
 ],
 "metadata": {
  "kernelspec": {
   "display_name": "Python 3",
   "language": "python",
   "name": "python3"
  },
  "language_info": {
   "codemirror_mode": {
    "name": "ipython",
    "version": 2
   },
   "file_extension": ".py",
   "mimetype": "text/x-python",
   "name": "python",
   "nbconvert_exporter": "python",
   "pygments_lexer": "ipython2",
   "version": "2.7.6"
  }
 },
 "nbformat": 4,
 "nbformat_minor": 5
}
