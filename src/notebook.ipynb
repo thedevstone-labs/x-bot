{
 "cells": [
  {
   "metadata": {},
   "cell_type": "markdown",
   "source": [
    "# Load the CSV\n",
    "We load the csv file created by the scraper in first part.\n"
   ],
   "id": "7bfe7eece5dc6e87"
  },
  {
   "metadata": {
    "collapsed": true
   },
   "cell_type": "code",
   "source": [
    "from pathlib import Path\n",
    "\n",
    "import pandas as pd\n",
    "from pandas import DataFrame\n",
    "\n",
    "from utils import get_path\n",
    "\n",
    "tweet_path: Path = get_path(\"./tweets.csv\")\n",
    "df: DataFrame = pd.read_csv(tweet_path, parse_dates=['created_at'], date_format='%a %b %d %H:%M:%S %z %Y',\n",
    "                            dtype={'id': int,\n",
    "                                   'username': 'string',\n",
    "                                   'text': 'string',\n",
    "                                   'retweets': int,\n",
    "                                   'likes': int})\n",
    "df.set_index('id', inplace=True)\n",
    "df.info()\n",
    "df.describe()"
   ],
   "id": "initial_id",
   "outputs": [],
   "execution_count": null
  },
  {
   "metadata": {},
   "cell_type": "markdown",
   "source": "## General infos",
   "id": "c9803c071948ee5a"
  },
  {
   "metadata": {},
   "cell_type": "code",
   "source": "df.head()",
   "id": "8db5dc915154c694",
   "outputs": [],
   "execution_count": null
  },
  {
   "metadata": {},
   "cell_type": "markdown",
   "source": "## Numerics",
   "id": "64b724cf8feb71f2"
  },
  {
   "metadata": {},
   "cell_type": "code",
   "source": [
    "most_retweeted = df.nlargest(10, \"retweets\")[[\"username\", \"text\", \"retweets\"]]\n",
    "most_retweeted"
   ],
   "id": "ddebfce85778b268",
   "outputs": [],
   "execution_count": null
  },
  {
   "metadata": {},
   "cell_type": "code",
   "source": [
    "\n",
    "most_liked = df.nlargest(10, \"likes\")[[\"username\", \"text\", \"likes\"]]\n",
    "most_liked\n"
   ],
   "id": "eaf6fa13a89cdb10",
   "outputs": [],
   "execution_count": null
  },
  {
   "metadata": {},
   "cell_type": "markdown",
   "source": [
    "## Time analysis\n",
    "We try to understand tweets time distribution"
   ],
   "id": "c1b560ec3cf93678"
  },
  {
   "metadata": {},
   "cell_type": "code",
   "source": [
    "# Extract date and hour for analysis\n",
    "df[\"date\"] = df[\"created_at\"].dt.date\n",
    "df[\"hour\"] = df[\"created_at\"].dt.hour\n",
    "df.head()"
   ],
   "id": "a4a168c08247f122",
   "outputs": [],
   "execution_count": null
  },
  {
   "metadata": {},
   "cell_type": "code",
   "source": [
    "tweets_per_day = df.groupby(\"date\")[\"text\"].count().to_frame(name=\"tweets\")\n",
    "tweets_per_day\n"
   ],
   "id": "d88ebc0cad0ecee4",
   "outputs": [],
   "execution_count": null
  },
  {
   "metadata": {},
   "cell_type": "code",
   "source": [
    "tweets_per_hour = df.groupby(\"hour\")[\"text\"].count().to_frame(name=\"tweets\")\n",
    "tweets_per_hour"
   ],
   "id": "564fb3917d79e09c",
   "outputs": [],
   "execution_count": null
  },
  {
   "metadata": {},
   "cell_type": "code",
   "source": [
    "import matplotlib.pyplot as plt\n",
    "\n",
    "tweets_per_hour.plot(kind=\"bar\", figsize=(10, 5), color=\"royalblue\")\n",
    "plt.xlabel(\"Hour of the Day\")\n",
    "plt.ylabel(\"Tweet Count\")\n",
    "plt.title(\"Tweet Frequency by Hour\")\n",
    "plt.show()"
   ],
   "id": "22421dfeaf3b5a70",
   "outputs": [],
   "execution_count": null
  },
  {
   "metadata": {},
   "cell_type": "markdown",
   "source": "## Most active users",
   "id": "6740096dd92fbca3"
  },
  {
   "metadata": {},
   "cell_type": "code",
   "source": [
    "active_users = df[\"username\"].value_counts().head(10)\n",
    "active_users"
   ],
   "id": "7cf7bf3c5d094fb",
   "outputs": [],
   "execution_count": null
  },
  {
   "metadata": {},
   "cell_type": "markdown",
   "source": "## Words Analysis",
   "id": "7b99e1004ca19a54"
  },
  {
   "metadata": {},
   "cell_type": "markdown",
   "source": "### Frequency",
   "id": "5ca205d62146a81c"
  },
  {
   "metadata": {
    "ExecuteTime": {
     "end_time": "2025-02-13T19:21:29.264729Z",
     "start_time": "2025-02-13T19:21:29.259226Z"
    }
   },
   "cell_type": "code",
   "source": [
    "import re\n",
    "import matplotlib.pyplot as plt\n",
    "from collections import Counter\n",
    "from nltk.corpus import stopwords\n",
    "import nltk\n",
    "# Load Italian\n",
    "nltk.download('stopwords')\n",
    "stopwords_it = set(stopwords.words(\"italian\"))\n",
    "\n",
    "# Combine all tweets into a single text\n",
    "all_text = \" \".join(df[\"text\"]).lower()\n",
    "\n",
    "# Extract words (only those longer than 6 characters & not in stopwords)\n",
    "words = [\n",
    "    word for word in re.findall(r'\\b\\w+\\b', all_text)\n",
    "    if len(word) > 6 and word not in stopwords_it\n",
    "]\n",
    "\n",
    "# Count word occurrences\n",
    "word_freq = Counter(words).most_common(20)\n",
    "word_df = pd.DataFrame(word_freq, columns=[\"word\", \"frequency\"])\n",
    "word_df\n"
   ],
   "id": "8c899328a47603af",
   "outputs": [
    {
     "name": "stderr",
     "output_type": "stream",
     "text": [
      "[nltk_data] Downloading package stopwords to /home/luca/nltk_data...\n",
      "[nltk_data]   Package stopwords is already up-to-date!\n"
     ]
    },
    {
     "data": {
      "text/plain": [
       "            word  frequency\n",
       "0    sanremo2025         59\n",
       "1        sanremo         12\n",
       "2       frassica          7\n",
       "3        damiano          7\n",
       "4       italiano          7\n",
       "5        secondi          4\n",
       "6     malgioglio          4\n",
       "7        bambino          3\n",
       "8        suonare          2\n",
       "9     pianoforte          2\n",
       "10       ritardo          2\n",
       "11       twitter          2\n",
       "12       cantare          2\n",
       "13       proprio          2\n",
       "14     mannaggia          2\n",
       "15  praticamente          2\n",
       "16      fiorello          2\n",
       "17       leggere          2\n",
       "18       artisti          2\n",
       "19       nessuno          2"
      ],
      "text/html": [
       "<div>\n",
       "<style scoped>\n",
       "    .dataframe tbody tr th:only-of-type {\n",
       "        vertical-align: middle;\n",
       "    }\n",
       "\n",
       "    .dataframe tbody tr th {\n",
       "        vertical-align: top;\n",
       "    }\n",
       "\n",
       "    .dataframe thead th {\n",
       "        text-align: right;\n",
       "    }\n",
       "</style>\n",
       "<table border=\"1\" class=\"dataframe\">\n",
       "  <thead>\n",
       "    <tr style=\"text-align: right;\">\n",
       "      <th></th>\n",
       "      <th>word</th>\n",
       "      <th>frequency</th>\n",
       "    </tr>\n",
       "  </thead>\n",
       "  <tbody>\n",
       "    <tr>\n",
       "      <th>0</th>\n",
       "      <td>sanremo2025</td>\n",
       "      <td>59</td>\n",
       "    </tr>\n",
       "    <tr>\n",
       "      <th>1</th>\n",
       "      <td>sanremo</td>\n",
       "      <td>12</td>\n",
       "    </tr>\n",
       "    <tr>\n",
       "      <th>2</th>\n",
       "      <td>frassica</td>\n",
       "      <td>7</td>\n",
       "    </tr>\n",
       "    <tr>\n",
       "      <th>3</th>\n",
       "      <td>damiano</td>\n",
       "      <td>7</td>\n",
       "    </tr>\n",
       "    <tr>\n",
       "      <th>4</th>\n",
       "      <td>italiano</td>\n",
       "      <td>7</td>\n",
       "    </tr>\n",
       "    <tr>\n",
       "      <th>5</th>\n",
       "      <td>secondi</td>\n",
       "      <td>4</td>\n",
       "    </tr>\n",
       "    <tr>\n",
       "      <th>6</th>\n",
       "      <td>malgioglio</td>\n",
       "      <td>4</td>\n",
       "    </tr>\n",
       "    <tr>\n",
       "      <th>7</th>\n",
       "      <td>bambino</td>\n",
       "      <td>3</td>\n",
       "    </tr>\n",
       "    <tr>\n",
       "      <th>8</th>\n",
       "      <td>suonare</td>\n",
       "      <td>2</td>\n",
       "    </tr>\n",
       "    <tr>\n",
       "      <th>9</th>\n",
       "      <td>pianoforte</td>\n",
       "      <td>2</td>\n",
       "    </tr>\n",
       "    <tr>\n",
       "      <th>10</th>\n",
       "      <td>ritardo</td>\n",
       "      <td>2</td>\n",
       "    </tr>\n",
       "    <tr>\n",
       "      <th>11</th>\n",
       "      <td>twitter</td>\n",
       "      <td>2</td>\n",
       "    </tr>\n",
       "    <tr>\n",
       "      <th>12</th>\n",
       "      <td>cantare</td>\n",
       "      <td>2</td>\n",
       "    </tr>\n",
       "    <tr>\n",
       "      <th>13</th>\n",
       "      <td>proprio</td>\n",
       "      <td>2</td>\n",
       "    </tr>\n",
       "    <tr>\n",
       "      <th>14</th>\n",
       "      <td>mannaggia</td>\n",
       "      <td>2</td>\n",
       "    </tr>\n",
       "    <tr>\n",
       "      <th>15</th>\n",
       "      <td>praticamente</td>\n",
       "      <td>2</td>\n",
       "    </tr>\n",
       "    <tr>\n",
       "      <th>16</th>\n",
       "      <td>fiorello</td>\n",
       "      <td>2</td>\n",
       "    </tr>\n",
       "    <tr>\n",
       "      <th>17</th>\n",
       "      <td>leggere</td>\n",
       "      <td>2</td>\n",
       "    </tr>\n",
       "    <tr>\n",
       "      <th>18</th>\n",
       "      <td>artisti</td>\n",
       "      <td>2</td>\n",
       "    </tr>\n",
       "    <tr>\n",
       "      <th>19</th>\n",
       "      <td>nessuno</td>\n",
       "      <td>2</td>\n",
       "    </tr>\n",
       "  </tbody>\n",
       "</table>\n",
       "</div>"
      ]
     },
     "execution_count": 59,
     "metadata": {},
     "output_type": "execute_result"
    }
   ],
   "execution_count": 59
  },
  {
   "metadata": {
    "ExecuteTime": {
     "end_time": "2025-02-13T19:21:34.748104Z",
     "start_time": "2025-02-13T19:21:34.626318Z"
    }
   },
   "cell_type": "code",
   "source": [
    "# Set style\n",
    "import seaborn as sns\n",
    "plt.figure(figsize=(12, 6))\n",
    "sns.barplot(x=\"frequency\", y=\"word\", data=word_df, palette=\"viridis\")\n",
    "\n",
    "# Titles and labels\n",
    "plt.xlabel(\"Count\")\n",
    "plt.ylabel(\"Word\")\n",
    "plt.title(\"Top 20 Most Frequent Words in Sanremo Tweets\")\n",
    "plt.grid(axis=\"x\", linestyle=\"--\", alpha=0.7)\n",
    "\n",
    "# Show plot\n",
    "plt.show()"
   ],
   "id": "92e22c704e1fefa6",
   "outputs": [
    {
     "name": "stderr",
     "output_type": "stream",
     "text": [
      "/tmp/ipykernel_45750/3379330175.py:4: FutureWarning: \n",
      "\n",
      "Passing `palette` without assigning `hue` is deprecated and will be removed in v0.14.0. Assign the `y` variable to `hue` and set `legend=False` for the same effect.\n",
      "\n",
      "  sns.barplot(x=\"frequency\", y=\"word\", data=word_df, palette=\"viridis\")\n"
     ]
    },
    {
     "data": {
      "text/plain": [
       "<Figure size 1200x600 with 1 Axes>"
      ],
      "image/png": "[encoded data removed]"
     },
     "metadata": {},
     "output_type": "display_data"
    }
   ],
   "execution_count": 60
  },
  {
   "metadata": {},
   "cell_type": "markdown",
   "source": "### Hashtags",
   "id": "1f173d39d9101a2d"
  },
  {
   "metadata": {},
   "cell_type": "code",
   "source": [
    "from collections import Counter\n",
    "import re\n",
    "\n",
    "\n",
    "# Function to clean and extract words\n",
    "def extract_words(text):\n",
    "    words = re.findall(r\"#\\w+\", text.lower())  # Extract hashtags\n",
    "    return words\n",
    "\n",
    "all_hashtags = df[\"text\"].dropna().apply(extract_words)\n",
    "hashtags = Counter([ht for sublist in all_hashtags for ht in sublist])\n",
    "hashtags.most_common(10)"
   ],
   "id": "35c188f8100edd8",
   "outputs": [],
   "execution_count": null
  },
  {
   "metadata": {},
   "cell_type": "markdown",
   "source": "## Sentiment Analysis",
   "id": "db644bbb93f447b0"
  },
  {
   "metadata": {},
   "cell_type": "code",
   "source": [
    "from textblob import TextBlob\n",
    "\n",
    "# Function to get sentiment polarity (-1 to 1)\n",
    "def get_sentiment(text):\n",
    "    return TextBlob(text).sentiment.polarity\n",
    "\n",
    "# Apply sentiment analysis\n",
    "df[\"sentiment\"] = df[\"text\"].apply(get_sentiment)\n",
    "\n",
    "# Average sentiment score\n",
    "df[\"sentiment\"].describe()\n"
   ],
   "id": "cb80fa5a2a23e045",
   "outputs": [],
   "execution_count": null
  },
  {
   "metadata": {},
   "cell_type": "code",
   "source": [
    "# Tweets with most positive sentiment\n",
    "df.sort_values(by=\"sentiment\", ascending=False)[[\"username\", \"text\", \"sentiment\"]].head(5)"
   ],
   "id": "46452dc70a61c4f1",
   "outputs": [],
   "execution_count": null
  },
  {
   "metadata": {},
   "cell_type": "markdown",
   "source": "",
   "id": "a1eed959996c019a"
  },
  {
   "metadata": {},
   "cell_type": "code",
   "source": [
    "# Tweets with most negative sentiment\n",
    "df.sort_values(by=\"sentiment\", ascending=True)[[\"username\", \"text\", \"sentiment\"]].head(5)"
   ],
   "id": "2d01887a3f9245d0",
   "outputs": [],
   "execution_count": null
  }
 ],
 "metadata": {
  "kernelspec": {
   "display_name": "Python 3",
   "language": "python",
   "name": "python3"
  },
  "language_info": {
   "codemirror_mode": {
    "name": "ipython",
    "version": 2
   },
   "file_extension": ".py",
   "mimetype": "text/x-python",
   "name": "python",
   "nbconvert_exporter": "python",
   "pygments_lexer": "ipython2",
   "version": "2.7.6"
  }
 },
 "nbformat": 4,
 "nbformat_minor": 5
}
